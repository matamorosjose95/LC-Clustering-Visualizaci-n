{
  "nbformat": 4,
  "nbformat_minor": 0,
  "metadata": {
    "colab": {
      "name": "Proyecto.ipynb",
      "version": "0.3.2",
      "provenance": [],
      "toc_visible": true
    },
    "kernelspec": {
      "name": "python3",
      "display_name": "Python 3"
    },
    "accelerator": "GPU"
  },
  "cells": [
    {
      "metadata": {
        "id": "01jWjQxbS4mE",
        "colab_type": "text"
      },
      "cell_type": "markdown",
      "source": [
        "#Importar librerías\n"
      ]
    },
    {
      "metadata": {
        "id": "ilgFIMdfJqXj",
        "colab_type": "code",
        "colab": {}
      },
      "cell_type": "code",
      "source": [
        "import numpy as np\n",
        "import os\n",
        "import matplotlib.pyplot as plt\n",
        "import random\n",
        "import time\n",
        "import pickle"
      ],
      "execution_count": 0,
      "outputs": []
    },
    {
      "metadata": {
        "id": "M9UTnS4TGZjK",
        "colab_type": "text"
      },
      "cell_type": "markdown",
      "source": [
        "#Cargar base de datos"
      ]
    },
    {
      "metadata": {
        "id": "QMF4U-9yvpRp",
        "colab_type": "text"
      },
      "cell_type": "markdown",
      "source": [
        "Habilitar uso de archivos desde drive"
      ]
    },
    {
      "metadata": {
        "id": "Rn_Qks38XsgU",
        "colab_type": "code",
        "colab": {
          "base_uri": "https://localhost:8080/",
          "height": 54
        },
        "outputId": "5a84439c-a863-4a94-8320-61ec0e44cf7e"
      },
      "cell_type": "code",
      "source": [
        "from google.colab import drive\n",
        "drive.mount('/content/gdrive')"
      ],
      "execution_count": 3,
      "outputs": [
        {
          "output_type": "stream",
          "text": [
            "Drive already mounted at /content/gdrive; to attempt to forcibly remount, call drive.mount(\"/content/gdrive\", force_remount=True).\n"
          ],
          "name": "stdout"
        }
      ]
    },
    {
      "metadata": {
        "id": "Pp0INAsVBvpJ",
        "colab_type": "text"
      },
      "cell_type": "markdown",
      "source": [
        "Cargar datos sin outliers"
      ]
    },
    {
      "metadata": {
        "id": "G4N2Rt6Uveo9",
        "colab_type": "code",
        "colab": {}
      },
      "cell_type": "code",
      "source": [
        "ruta_base='gdrive/My Drive/Inteligencia Computacional/Proyecto/BaseDatos'"
      ],
      "execution_count": 0,
      "outputs": []
    },
    {
      "metadata": {
        "id": "JI39NZ84wD9F",
        "colab_type": "code",
        "colab": {}
      },
      "cell_type": "code",
      "source": [
        "with open(ruta_base + '/dateR.obj','rb') as input:\n",
        "  dateR=pickle.load(input)\n",
        "    \n",
        "with open(ruta_base + '/dateB.obj','rb') as input:\n",
        "  dateB=pickle.load(input)\n",
        "  \n",
        "with open(ruta_base + '/MagR.obj','rb') as input:\n",
        "  MagR=pickle.load(input)\n",
        "  \n",
        "with open(ruta_base + '/MagB.obj','rb') as input:\n",
        "  MagB=pickle.load(input)\n",
        "  \n",
        "with open(ruta_base + '/ErMagR.obj','rb') as input:\n",
        "  ErMagR=pickle.load(input)\n",
        "  \n",
        "with open(ruta_base + '/ErMagB.obj','rb') as input:\n",
        "  ErMagB=pickle.load(input)\n",
        "  \n",
        "with open(ruta_base + '/Periodo.obj','rb') as input:\n",
        "  Periodo=pickle.load(input)\n",
        "  \n",
        "with open(ruta_base + '/Nombres.obj','rb') as input:\n",
        "  Nombres=pickle.load(input)\n",
        "  \n",
        "#with open(ruta_base + '/ErrMR.obj','rb') as input:\n",
        "#  ErrMR=pickle.load(input)\n",
        "\n",
        "#with open(ruta_base + '/ErrMB.obj','rb') as input:\n",
        "#  ErrMB=pickle.load(input)\n",
        "  \n",
        "#with open(ruta_base + '/MR.obj','rb') as input:\n",
        "#  MR=pickle.load(input)\n",
        "  \n",
        "#with open(ruta_base + '/MB.obj','rb') as input:\n",
        "#  MB=pickle.load(input)\n",
        "  \n",
        "#with open(ruta_base + '/XR.obj','rb') as input:\n",
        "#  XR=pickle.load(input)\n",
        "  \n",
        "#with open(ruta_base + '/YR.obj','rb') as input:\n",
        "#  YR=pickle.load(input)\n",
        "  \n",
        "#with open(ruta_base + '/XB.obj','rb') as input:\n",
        "#  XB=pickle.load(input)\n",
        "  \n",
        "#with open(ruta_base + '/YB.obj','rb') as input:\n",
        "#  YB=pickle.load(input)\n",
        "  \n",
        "#with open(ruta_base + '/ErrMR.obj','rb') as input:\n",
        "#  ErrMR=pickle.load(input)\n",
        "  \n",
        "#with open(ruta_base + '/ErrMB.obj','rb') as input:\n",
        "#  ErrMB=pickle.load(input)"
      ],
      "execution_count": 0,
      "outputs": []
    },
    {
      "metadata": {
        "id": "2glQJU-aex5v",
        "colab_type": "text"
      },
      "cell_type": "markdown",
      "source": [
        "# Preprocesamiento de datos"
      ]
    },
    {
      "metadata": {
        "id": "iwc4eDB9_YRN",
        "colab_type": "text"
      },
      "cell_type": "markdown",
      "source": [
        "## Eliminar outliers"
      ]
    },
    {
      "metadata": {
        "id": "7N3NdiqqfVwj",
        "colab_type": "text"
      },
      "cell_type": "markdown",
      "source": [
        "Función para eliminar ouliers. Elimina aquellos valores con 99.999 en magnitud y 9.999 en error. Además elimina aquellos mayores que la media más 2 desviaciones estándar y menores a la media menos 2 desviaciones estándar."
      ]
    },
    {
      "metadata": {
        "id": "GQ_qE_Moa7xP",
        "colab_type": "code",
        "colab": {}
      },
      "cell_type": "code",
      "source": [
        "def remove_outliers(Date,Mag,ErMag):\n",
        "  #eliminar outliers de los rojos\n",
        "  for i in range(len(Date)):\n",
        "    if Mag[i]==99.999 or ErMag[i]==9.999:\n",
        "      Date[i]='del'\n",
        "      Mag[i]='del'\n",
        "      ErMag[i]='del'\n",
        "  \n",
        "  while Mag.count('del')!=0:\n",
        "    Date.remove('del')\n",
        "    Mag.remove('del')\n",
        "    ErMag.remove('del')\n",
        "    \n",
        "  #eliminar outliers con desviación estandar\n",
        "  m=np.mean(np.array(Mag))\n",
        "  sd=np.std(np.array(Mag))\n",
        "  \n",
        "  for i in range(len(Date)):\n",
        "    if np.greater(m-2*sd,np.array(Mag[i])):\n",
        "      Mag[i]='del'\n",
        "      Date[i]='del'\n",
        "      ErMag[i]='del'\n",
        "    if np.greater(np.array(Mag[i]),m+2*sd):\n",
        "      Mag[i]='del'\n",
        "      Date[i]='del'\n",
        "      ErMag[i]='del'\n",
        "  \n",
        "  while Mag.count('del')!=0:\n",
        "    Mag.remove('del')\n",
        "    Date.remove('del')\n",
        "    ErMag.remove('del')"
      ],
      "execution_count": 0,
      "outputs": []
    },
    {
      "metadata": {
        "id": "BwtZuh0Zxbnr",
        "colab_type": "text"
      },
      "cell_type": "markdown",
      "source": [
        "Eliminar los outliers de las curvas de luz Rojas y Azules"
      ]
    },
    {
      "metadata": {
        "id": "_npL6jyq1Ppk",
        "colab_type": "code",
        "colab": {}
      },
      "cell_type": "code",
      "source": [
        "for i in range(len(dateR)):\n",
        "  remove_outliers(dateR[i],MagR[i],ErMagR[i])\n",
        "  \n",
        "for i in range(len(dateB)):\n",
        "  remove_outliers(dateB[i],MagB[i],ErMagB[i])"
      ],
      "execution_count": 0,
      "outputs": []
    },
    {
      "metadata": {
        "id": "SZJQaTBf3_f3",
        "colab_type": "text"
      },
      "cell_type": "markdown",
      "source": [
        "Guardar en pickle"
      ]
    },
    {
      "metadata": {
        "id": "XbZsV1_C3CIw",
        "colab_type": "code",
        "colab": {}
      },
      "cell_type": "code",
      "source": [
        "with open('pre_process_data.obj','wb') as pre_process:\n",
        "  pickle.dump([Nombres, Periodo, dateR, MagR, ErMagR, dateB, MagB, ErMagB], pre_process)"
      ],
      "execution_count": 0,
      "outputs": []
    },
    {
      "metadata": {
        "id": "wOLfNELMgsGr",
        "colab_type": "text"
      },
      "cell_type": "markdown",
      "source": [
        "## Normalización de datos y tiempo doblado"
      ]
    },
    {
      "metadata": {
        "id": "cQF-GCmgg9zH",
        "colab_type": "text"
      },
      "cell_type": "markdown",
      "source": [
        "Grafico en fase de cada curva. Se omite la normalización pues la metodología será discutida en un futuro"
      ]
    },
    {
      "metadata": {
        "id": "8wspuu65g3cA",
        "colab_type": "code",
        "colab": {}
      },
      "cell_type": "code",
      "source": [
        "for i in range(len(dateR)):\n",
        "  dateR[i]=np.array(dateR[i])\n",
        "  # se calcula la fase asociada a ese valor\n",
        "  dateR[i]=(dateR[i] % Periodo[i])/Periodo[i]\n",
        "  # ordenar las fases, se obtiene la secuencia de indices\n",
        "  ind=np.argsort(dateR[i]) \n",
        "  MagR[i]=np.array(MagR[i])\n",
        "  # reordenar los valores\n",
        "  MagR[i]=MagR[i][ind]\n",
        "  dateR[i]=dateR[i][ind]\n",
        "  # normalización entre 0 y 1\n",
        "  MagR[i]=(MagR[i]-min(MagR[i]))/(max(MagR[i])-min(MagR[i]))\n",
        "  \n",
        "\n",
        "  \n",
        "for i in range(len(dateB)):\n",
        "    dateB[i]=np.array(dateB[i])\n",
        "    # se calcula la fase asociada a ese valor\n",
        "    dateB[i]=(dateB[i] % Periodo[i])/Periodo[i]\n",
        "    # ordenar las fases, se obtiene la secuencia de indices\n",
        "    ind=np.argsort(dateB[i]) \n",
        "    MagB[i]=np.array(MagB[i])\n",
        "    # reordenar los valores\n",
        "    MagB[i]=MagB[i][ind]\n",
        "    dateB[i]=dateB[i][ind]\n",
        "    # normalización entre 0 y 1\n",
        "    MagB[i]=(MagB[i]-min(MagB[i]))/(max(MagB[i])-min(MagB[i]))"
      ],
      "execution_count": 0,
      "outputs": []
    },
    {
      "metadata": {
        "id": "un7oBpdWhQ5c",
        "colab_type": "text"
      },
      "cell_type": "markdown",
      "source": [
        "Función para suavizar las curvas. Convolución con ventana de hanning de tamaño 15"
      ]
    },
    {
      "metadata": {
        "id": "gRXnrgbyhP_N",
        "colab_type": "code",
        "colab": {}
      },
      "cell_type": "code",
      "source": [
        "def smooth(x, window_len=15, window='hanning'):\n",
        "    if window_len < 3:\n",
        "        return x\n",
        "    if not window in ['flat', 'hanning', 'hamming', 'bartlett', 'blackman']:\n",
        "        raise ValueError(\"Window is on of 'flat', 'hanning', 'hamming', 'bartlett', 'blackman'\")\n",
        "    s=np.r_[x[window_len-1:0:-1],x,x[-1:-window_len:-1]]\n",
        "    if window == 'flat': #moving average\n",
        "        w=np.ones(window_len,'d')\n",
        "    else:\n",
        "        w=eval('np.'+window+'(window_len)')\n",
        "    y=np.convolve(w/w.sum(),s,mode='valid')\n",
        "    return y  "
      ],
      "execution_count": 0,
      "outputs": []
    },
    {
      "metadata": {
        "id": "pwJrgimghnzm",
        "colab_type": "text"
      },
      "cell_type": "markdown",
      "source": [
        "Interpolar datos para que todas las curvas tengan un tamaño de 500 datos"
      ]
    },
    {
      "metadata": {
        "id": "nUZZ8VkEhttl",
        "colab_type": "code",
        "colab": {}
      },
      "cell_type": "code",
      "source": [
        "fase=np.linspace(0, 1, num=500) \n",
        "for i in range(len(dateR)):\n",
        "  MagR[i] = np.interp(fase, dateR[i], MagR[i])\n",
        "  \n",
        "for i in range(len(dateB)):\n",
        "  MagB[i] = np.interp(fase, dateB[i], MagB[i])"
      ],
      "execution_count": 0,
      "outputs": []
    },
    {
      "metadata": {
        "id": "pv9oyNyvhzMi",
        "colab_type": "text"
      },
      "cell_type": "markdown",
      "source": [
        "Suavizar curvas"
      ]
    },
    {
      "metadata": {
        "id": "qpmybE4Kh1Kl",
        "colab_type": "code",
        "colab": {}
      },
      "cell_type": "code",
      "source": [
        "for i in range(len(MagR)):\n",
        "  MagR[i]=smooth(MagR[i], window_len=11, window='hanning')\n",
        "  \n",
        "for i in range(len(MagB)):\n",
        "  MagB[i]=smooth(MagB[i], window_len=11, window='hanning')"
      ],
      "execution_count": 0,
      "outputs": []
    },
    {
      "metadata": {
        "id": "0rL5wUSTBQR4",
        "colab_type": "code",
        "colab": {}
      },
      "cell_type": "code",
      "source": [
        "with open('LC.obj','wb') as lightcurves:\n",
        "  pickle.dump([MagR,MagB,fase],lightcurves)"
      ],
      "execution_count": 0,
      "outputs": []
    },
    {
      "metadata": {
        "id": "4m4A1s-h30hd",
        "colab_type": "text"
      },
      "cell_type": "markdown",
      "source": [
        "#Extracción de características con FATS"
      ]
    },
    {
      "metadata": {
        "id": "sDrkYHwxlnF1",
        "colab_type": "text"
      },
      "cell_type": "markdown",
      "source": [
        "## Instalar FATS"
      ]
    },
    {
      "metadata": {
        "id": "IzVm1kelKI4H",
        "colab_type": "code",
        "colab": {
          "base_uri": "https://localhost:8080/",
          "height": 564
        },
        "outputId": "f2dba08c-e51e-4fdb-ebe7-992228a7994f"
      },
      "cell_type": "code",
      "source": [
        "!git clone https://github.com/jonwihl/FATS-2.0.git\n",
        "import sys\n",
        "sys.path.append('FATS-2.0')\n",
        "!pip install P4J\n",
        "!pip install 2to3\n",
        "!cd FATS-2.0/FATS; 2to3 -w Base.py Feature.py FeatureFunctionLib.py PreprocessLC.py __init__.py\n",
        "!cd FATS-2.0/FATS; 2to3 -w alignLC.py featureFunction.py lomb.py profile_action.py unitTests.py test_library.py"
      ],
      "execution_count": 14,
      "outputs": [
        {
          "output_type": "stream",
          "text": [
            "fatal: destination path 'FATS-2.0' already exists and is not an empty directory.\n",
            "Requirement already satisfied: P4J in /usr/local/lib/python3.6/dist-packages (0.27)\n",
            "Requirement already satisfied: numpy>=1.9.0 in /usr/local/lib/python3.6/dist-packages (from P4J) (1.14.6)\n",
            "Requirement already satisfied: 2to3 in /usr/local/lib/python3.6/dist-packages (1.0)\n",
            "RefactoringTool: Skipping optional fixer: buffer\n",
            "RefactoringTool: Skipping optional fixer: idioms\n",
            "RefactoringTool: Skipping optional fixer: set_literal\n",
            "RefactoringTool: Skipping optional fixer: ws_comma\n",
            "RefactoringTool: No changes to Base.py\n",
            "RefactoringTool: No changes to Feature.py\n",
            "RefactoringTool: No changes to FeatureFunctionLib.py\n",
            "RefactoringTool: Files that need to be modified:\n",
            "RefactoringTool: Base.py\n",
            "RefactoringTool: Feature.py\n",
            "RefactoringTool: FeatureFunctionLib.py\n",
            "RefactoringTool: Skipping optional fixer: buffer\n",
            "RefactoringTool: Skipping optional fixer: idioms\n",
            "RefactoringTool: Skipping optional fixer: set_literal\n",
            "RefactoringTool: Skipping optional fixer: ws_comma\n",
            "RefactoringTool: No changes to alignLC.py\n",
            "RefactoringTool: No changes to lomb.py\n",
            "RefactoringTool: No changes to profile_action.py\n",
            "RefactoringTool: No changes to unitTests.py\n",
            "RefactoringTool: Can't parse test_library.py: IndentationError: unindent does not match any outer indentation level (<tokenize>, line 325)\n",
            "RefactoringTool: Files that need to be modified:\n",
            "RefactoringTool: alignLC.py\n",
            "RefactoringTool: lomb.py\n",
            "RefactoringTool: profile_action.py\n",
            "RefactoringTool: unitTests.py\n",
            "RefactoringTool: There was 1 error:\n",
            "RefactoringTool: Can't parse test_library.py: IndentationError: unindent does not match any outer indentation level (<tokenize>, line 325)\n"
          ],
          "name": "stdout"
        }
      ]
    },
    {
      "metadata": {
        "id": "K-k3gYffiImr",
        "colab_type": "text"
      },
      "cell_type": "markdown",
      "source": [
        "## Calcular características"
      ]
    },
    {
      "metadata": {
        "id": "tpyKHJOxb8ol",
        "colab_type": "code",
        "colab": {
          "base_uri": "https://localhost:8080/",
          "height": 71
        },
        "outputId": "a83b0589-647f-4855-c0de-56e6b2783244"
      },
      "cell_type": "code",
      "source": [
        "import FATS"
      ],
      "execution_count": 15,
      "outputs": [
        {
          "output_type": "stream",
          "text": [
            "/usr/local/lib/python3.6/dist-packages/statsmodels/compat/pandas.py:56: FutureWarning: The pandas.core.datetools module is deprecated and will be removed in a future version. Please use the pandas.tseries module instead.\n",
            "  from pandas.core import datetools\n"
          ],
          "name": "stderr"
        }
      ]
    },
    {
      "metadata": {
        "id": "DfXu3T4f_YBw",
        "colab_type": "code",
        "colab": {
          "base_uri": "https://localhost:8080/",
          "height": 187
        },
        "outputId": "d5896757-ddcd-487c-a9da-33e098bb08ab"
      },
      "cell_type": "code",
      "source": [
        "# Lista de características a calcular\n",
        "f_list=['Amplitude', 'AndersonDarling', 'Autocor_length', 'Beyond1Std', 'CAR_sigma',\n",
        "        'CAR_mean', 'CAR_tau', 'Con','Eta_e', 'FluxPercentileRatioMid features',\n",
        "        'Harmonics features','LinearTrend','MaxSlope','Mean', 'Meanvariance',\n",
        "        'MedianAbsDev', 'MedianBRP','PairSlopeTrend', 'PercentileAmplitude', 'PeriodLS',\n",
        "        'Period_fit', 'PercentDifferenceFluxPercentile','Psi_CS', 'Psi_eta','Q31',\n",
        "        'Rcs','Skew','SmallKurtosis','Std','StetsonK']\n",
        "\n",
        "# Calculo de características\n",
        "caracteristicas=[]\n",
        "a=FATS.FeatureSpace(Data=['magnitude','time','error'], featureList=f_list)\n",
        "for i in range(len(Nombres)):\n",
        "  ti=time.time()\n",
        "  lc=np.array([np.array(MagR[i]), np.array(dateR[i]), np.array(ErMagR[i])])\n",
        "  a=a.calculateFeature(lc)\n",
        "  caracteristicas.append(a.result(method='array').tolist())\n",
        "  print('Tiempo: '+str(time.time()-ti))\n",
        "    \n",
        "caracteristicas=np.array(caracteristicas)"
      ],
      "execution_count": 22,
      "outputs": [
        {
          "output_type": "stream",
          "text": [
            "Tiempo: 0.3448503017425537\n",
            "Tiempo: 0.3343937397003174\n",
            "Tiempo: 0.36738085746765137\n",
            "Tiempo: 0.34099864959716797\n",
            "Tiempo: 2.6104185581207275\n",
            "Tiempo: 0.38475465774536133\n",
            "Tiempo: 0.34572362899780273\n",
            "Tiempo: 0.4015953540802002\n",
            "Tiempo: 0.38817787170410156\n",
            "Tiempo: 0.33922290802001953\n"
          ],
          "name": "stdout"
        }
      ]
    },
    {
      "metadata": {
        "id": "bBREn9TMxC64",
        "colab_type": "code",
        "colab": {
          "base_uri": "https://localhost:8080/",
          "height": 34
        },
        "outputId": "779f605a-a1f8-464c-fbf6-55cdfcc943a4"
      },
      "cell_type": "code",
      "source": [
        "np.mean(np.array([0.3448503017425537,0.3343937397003174,0.36738085746765137,0.34099864959716797,2.6104185581207275,\n",
        "                 0.38475465774536133,0.34572362899780273,0.4015953540802002,0.38817787170410156,0.33922290802001953]))"
      ],
      "execution_count": 23,
      "outputs": [
        {
          "output_type": "execute_result",
          "data": {
            "text/plain": [
              "0.5857516527175903"
            ]
          },
          "metadata": {
            "tags": []
          },
          "execution_count": 23
        }
      ]
    },
    {
      "metadata": {
        "id": "sl2jUuWExfgQ",
        "colab_type": "code",
        "colab": {
          "base_uri": "https://localhost:8080/",
          "height": 34
        },
        "outputId": "f7a6898e-e7bb-426c-e6e4-0734ac9622de"
      },
      "cell_type": "code",
      "source": [
        "len(caracteristicas[0])"
      ],
      "execution_count": 20,
      "outputs": [
        {
          "output_type": "execute_result",
          "data": {
            "text/plain": [
              "27"
            ]
          },
          "metadata": {
            "tags": []
          },
          "execution_count": 20
        }
      ]
    },
    {
      "metadata": {
        "id": "D-elB8_zj2AN",
        "colab_type": "code",
        "colab": {}
      },
      "cell_type": "code",
      "source": [
        "file_caracteristicas=open('file_caracteristicas.obj','wb')\n",
        "pickle.dump(caracteristicas,file_caracteristicas)"
      ],
      "execution_count": 0,
      "outputs": []
    },
    {
      "metadata": {
        "id": "8RldYuD892rZ",
        "colab_type": "text"
      },
      "cell_type": "markdown",
      "source": [
        "# Mapa autoorganizado"
      ]
    },
    {
      "metadata": {
        "id": "zV-c7OiBc9rX",
        "colab_type": "text"
      },
      "cell_type": "markdown",
      "source": [
        "## Mapa autoorganizado con *Tensorflow*"
      ]
    },
    {
      "metadata": {
        "id": "eW2FFHPAjB3p",
        "colab_type": "text"
      },
      "cell_type": "markdown",
      "source": [
        "https://github.com/spiglerg/Kohonen_SOM_Tensorflow"
      ]
    },
    {
      "metadata": {
        "id": "-9TWTSBZdFSS",
        "colab_type": "code",
        "colab": {}
      },
      "cell_type": "code",
      "source": [
        "class SOM:\n",
        "\t\"\"\"\n",
        "\tEfficient implementation of Kohonen Self-Organizing maps using Tensorflow.\n",
        "\tmap_size_n: size of the (square) map\n",
        "\tnum_expected_iterations: number of iterations to be used during training. This parameter is used to derive good parameters for the learning rate and the neighborhood radius.\n",
        "\t\"\"\"\n",
        "\tdef __init__(self, input_shape, map_size_n, num_expected_iterations, session):\n",
        "\t\tinput_shape = tuple([i for i in input_shape if i is not None])\n",
        "\n",
        "\t\tself.input_shape = input_shape\n",
        "\t\tself.sigma_act = tf.constant( 2.0*(reduce(lambda x, y:x*y, self.input_shape, 1)*0.05)**2, dtype=tf.float32 )\n",
        "\n",
        "\t\tself.n = map_size_n\n",
        "\n",
        "\t\tself.session = session\n",
        "\n",
        "\t\tself.alpha = tf.constant( 0.5 )\n",
        "\t\tself.timeconst_alpha = tf.constant( 2.0*num_expected_iterations/6.0) #2/6\n",
        "\n",
        "\t\tself.sigma = tf.constant( self.n/2.0 ) #self.n/2.0\n",
        "\t\tself.timeconst_sigma = tf.constant( 2.0*num_expected_iterations/5.0 ) #2/5\n",
        "\n",
        "\n",
        "\t\tself.num_iterations = 0\n",
        "\t\tself.num_expected_iterations = num_expected_iterations\n",
        "\n",
        "\n",
        "\t\t# Pre-initialize neighborhood function's data for efficiency\n",
        "\t\tself.row_indices = np.zeros((self.n, self.n))\n",
        "\t\tself.col_indices = np.zeros((self.n, self.n))\n",
        "\t\tfor r in range(self.n):\n",
        "\t\t\tfor c in range(self.n):\n",
        "\t\t\t\tself.row_indices[r, c] = r\n",
        "\t\t\t\tself.col_indices[r, c] = c\n",
        "\n",
        "\t\tself.row_indices = np.reshape(self.row_indices, [-1])\n",
        "\t\tself.col_indices = np.reshape(self.col_indices, [-1])\n",
        "\n",
        "\t\t## Compute d^2/2 for each pair of units, so that the neighborhood function can be computed as exp(-dist/sigma^2)\n",
        "\t\tself.dist = np.zeros((self.n*self.n, self.n*self.n))\n",
        "\t\tfor i in range(self.n*self.n):\n",
        "\t\t\tfor j in range(self.n*self.n):\n",
        "\t\t\t\tself.dist[i, j] = ( (self.row_indices[i]-self.row_indices[j])**2 + (self.col_indices[i]-self.col_indices[j])**2 )\n",
        "\n",
        "\n",
        "\t\tself.initialize_graph()\n",
        "\n",
        "\n",
        "\tdef initialize_graph(self):\n",
        "\t\tself.weights = tf.Variable( tf.random_uniform((self.n*self.n, )+self.input_shape, 0.0, 1.0) )  ##TODO: match with input type, and check that my DQN implementation actually uses values in 0-255 vs 0-1?\n",
        "\n",
        "\n",
        "\t\t# 1) The first part computes the winning unit, potentially in batch mode. It only requires 'input_placeholder_' and 'current_iteration' to be filled in. This is used in get_batch_winner and get_batch_winner_activity, to be used in clustering novel vectors after training is complete.\n",
        "\t\t# The batch placeholder is not used in training, where only a single vector is supported at the moment.\n",
        "\n",
        "\t\tself.input_placeholder = tf.placeholder(tf.float32, (None,)+self.input_shape)\n",
        "\t\tself.current_iteration = tf.placeholder(tf.float32)\n",
        "\n",
        "\t\t## Compute the current iteration's neighborhood sigma and learning rate alpha:\n",
        "\t\tself.sigma_tmp = self.sigma * tf.exp( - self.current_iteration/self.timeconst_sigma  )\n",
        "\t\tself.sigma2 = 2.0*tf.multiply(self.sigma_tmp, self.sigma_tmp)\n",
        "\n",
        "\t\tself.alpha_tmp = self.alpha * tf.exp( - self.current_iteration/self.timeconst_alpha  )\n",
        "\n",
        "\n",
        "\t\tself.input_placeholder_ = tf.expand_dims(self.input_placeholder, 1)\n",
        "\t\tself.input_placeholder_ = tf.tile(self.input_placeholder_, (1,self.n*self.n,1) )\n",
        "\n",
        "\t\tself.diff = self.input_placeholder_ - self.weights\n",
        "\t\tself.diff_sq = tf.square(self.diff)\n",
        "\t\tself.diff_sum = tf.reduce_sum( self.diff_sq, reduction_indices=range(2, 2+len(self.input_shape)) )\n",
        "\n",
        "\t\t# Get the index of the best matching unit\n",
        "\t\tself.bmu_index = tf.argmin(self.diff_sum, 1)\n",
        "\n",
        "\t\tself.bmu_dist = tf.reduce_min(self.diff_sum, 1)\n",
        "\t\tself.bmu_activity = tf.exp( -self.bmu_dist/self.sigma_act )\n",
        "\n",
        "\n",
        "\t\tself.diff = tf.squeeze(self.diff)\n",
        "\n",
        "\n",
        "\n",
        "\t\t## 2) The second part computes and applies the weight update. It requires 'diff_2' and 'dist_sliced' to be filled in. dist_sliced = self.dist[bmu_index, :]\n",
        "\t\tself.diff_2 = tf.placeholder(tf.float32, (self.n*self.n,)+self.input_shape)\n",
        "\t\tself.dist_sliced = tf.placeholder(tf.float32, (self.n*self.n,))\n",
        "\n",
        "\t\tself.distances = tf.exp(-self.dist_sliced / self.sigma2 )\n",
        "\t\tself.lr_times_neigh = tf.mul( self.alpha_tmp, self.distances )\n",
        "\t\tfor i in range(len(self.input_shape)):\n",
        "\t\t\tself.lr_times_neigh = tf.expand_dims(self.lr_times_neigh, -1)\n",
        "\t\tself.lr_times_neigh = tf.tile(self.lr_times_neigh, (1,)+self.input_shape )\n",
        "\n",
        "\t\tself.delta_w = self.lr_times_neigh * self.diff_2\n",
        "\n",
        "\t\tself.update_weights = tf.assign_add(self.weights, self.delta_w)\n",
        "\n",
        "\n",
        "\tdef train(self, input_x): #TODO: try training a batch all together, to optimize gpu usage?\n",
        "\t\t# Compute the winning unit\n",
        "\t\tbmu_index, diff = self.session.run([self.bmu_index, self.diff], {self.input_placeholder:[input_x], self.current_iteration:self.num_iterations})\n",
        "\n",
        "\t\t# Update the network's weights\n",
        "\t\tself.session.run(self.update_weights, {self.diff_2:diff, self.dist_sliced:self.dist[bmu_index[0],:], self.current_iteration:self.num_iterations})\n",
        "\n",
        "\t\tself.num_iterations = min(self.num_iterations+1, self.num_expected_iterations)\n",
        "\n",
        "\n",
        "\tdef get_batch_winner(self, batch_input):\n",
        "\t\t\"\"\"\n",
        "\t\tReturns the index of the units in the network that best match each batch_input vector.\n",
        "\t\t\"\"\"\n",
        "\t\tindices = self.session.run([self.bmu_index], {self.input_placeholder:batch_input, self.current_iteration:self.num_iterations})\n",
        "\n",
        "\t\treturn indices\n",
        "\n",
        "\n",
        "\tdef get_batch_winner_activity(self, batch_input):\n",
        "\t\t\"\"\"\n",
        "\t\tReturns the activation value of the units in the network that best match each batch_input vector.\n",
        "\t\t\"\"\"\n",
        "\t\tactivity = self.session.run([self.bmu_activity], {self.input_placeholder:batch_input, self.current_iteration:self.num_iterations})\n",
        "\n",
        "\t\treturn activity\n",
        "\n",
        "\n",
        "\tdef get_weights(self):\n",
        "\t\t\"\"\"\n",
        "\t\tReturns the full list of weights as [N*N, input_shape]\n",
        "\t\t\"\"\"\n",
        "\t\treturn self.weights.eval()"
      ],
      "execution_count": 0,
      "outputs": []
    },
    {
      "metadata": {
        "id": "0v7P8HiodIDa",
        "colab_type": "code",
        "colab": {
          "base_uri": "https://localhost:8080/",
          "height": 2019
        },
        "outputId": "fd7c73ed-9fca-4f30-efec-28bc96febecb"
      },
      "cell_type": "code",
      "source": [
        "import tensorflow as tf\n",
        "from functools import reduce\n",
        "with tf.device(\"gpu:0\"):\n",
        "\tsess = tf.InteractiveSession()\n",
        "\n",
        "\tnum_training = 400\n",
        "\ts = SOM( (27,), 30, num_training, sess )\n",
        "\n",
        "\tsess.run(tf.initialize_all_variables())\n",
        "\n",
        "\n",
        "\t#For plotting the images\n",
        "\tfrom matplotlib import pyplot as plt\n",
        "\n",
        "\tfor i in range(num_training):\n",
        "\t\trnd_ind = np.random.randint(0, len(caracteristicas))\n",
        "\t\ts.train(caracteristicas[rnd_ind,:])\n",
        "\n",
        "\n",
        "\tplt.imshow( np.reshape(s.get_weights(), [30, 30, 3]) )\n",
        "\n",
        "\tplt.show()"
      ],
      "execution_count": 20,
      "outputs": [
        {
          "output_type": "stream",
          "text": [
            "/usr/local/lib/python3.6/dist-packages/tensorflow/python/client/session.py:1702: UserWarning: An interactive session is already active. This can cause out-of-memory errors in some cases. You must explicitly call `InteractiveSession.close()` to release resources held by the other session(s).\n",
            "  warnings.warn('An interactive session is already active. This can '\n"
          ],
          "name": "stderr"
        },
        {
          "output_type": "error",
          "ename": "ValueError",
          "evalue": "ignored",
          "traceback": [
            "\u001b[0;31m---------------------------------------------------------------------------\u001b[0m",
            "\u001b[0;31mValueError\u001b[0m                                Traceback (most recent call last)",
            "\u001b[0;32m/usr/local/lib/python3.6/dist-packages/tensorflow/python/framework/op_def_library.py\u001b[0m in \u001b[0;36m_apply_op_helper\u001b[0;34m(self, op_type_name, name, **keywords)\u001b[0m\n\u001b[1;32m    509\u001b[0m                 \u001b[0mas_ref\u001b[0m\u001b[0;34m=\u001b[0m\u001b[0minput_arg\u001b[0m\u001b[0;34m.\u001b[0m\u001b[0mis_ref\u001b[0m\u001b[0;34m,\u001b[0m\u001b[0;34m\u001b[0m\u001b[0m\n\u001b[0;32m--> 510\u001b[0;31m                 preferred_dtype=default_dtype)\n\u001b[0m\u001b[1;32m    511\u001b[0m           \u001b[0;32mexcept\u001b[0m \u001b[0mTypeError\u001b[0m \u001b[0;32mas\u001b[0m \u001b[0merr\u001b[0m\u001b[0;34m:\u001b[0m\u001b[0;34m\u001b[0m\u001b[0m\n",
            "\u001b[0;32m/usr/local/lib/python3.6/dist-packages/tensorflow/python/framework/ops.py\u001b[0m in \u001b[0;36minternal_convert_to_tensor\u001b[0;34m(value, dtype, name, as_ref, preferred_dtype, ctx)\u001b[0m\n\u001b[1;32m   1145\u001b[0m     \u001b[0;32mif\u001b[0m \u001b[0mret\u001b[0m \u001b[0;32mis\u001b[0m \u001b[0;32mNone\u001b[0m\u001b[0;34m:\u001b[0m\u001b[0;34m\u001b[0m\u001b[0m\n\u001b[0;32m-> 1146\u001b[0;31m       \u001b[0mret\u001b[0m \u001b[0;34m=\u001b[0m \u001b[0mconversion_func\u001b[0m\u001b[0;34m(\u001b[0m\u001b[0mvalue\u001b[0m\u001b[0;34m,\u001b[0m \u001b[0mdtype\u001b[0m\u001b[0;34m=\u001b[0m\u001b[0mdtype\u001b[0m\u001b[0;34m,\u001b[0m \u001b[0mname\u001b[0m\u001b[0;34m=\u001b[0m\u001b[0mname\u001b[0m\u001b[0;34m,\u001b[0m \u001b[0mas_ref\u001b[0m\u001b[0;34m=\u001b[0m\u001b[0mas_ref\u001b[0m\u001b[0;34m)\u001b[0m\u001b[0;34m\u001b[0m\u001b[0m\n\u001b[0m\u001b[1;32m   1147\u001b[0m \u001b[0;34m\u001b[0m\u001b[0m\n",
            "\u001b[0;32m/usr/local/lib/python3.6/dist-packages/tensorflow/python/framework/constant_op.py\u001b[0m in \u001b[0;36m_constant_tensor_conversion_function\u001b[0;34m(v, dtype, name, as_ref)\u001b[0m\n\u001b[1;32m    228\u001b[0m   \u001b[0m_\u001b[0m \u001b[0;34m=\u001b[0m \u001b[0mas_ref\u001b[0m\u001b[0;34m\u001b[0m\u001b[0m\n\u001b[0;32m--> 229\u001b[0;31m   \u001b[0;32mreturn\u001b[0m \u001b[0mconstant\u001b[0m\u001b[0;34m(\u001b[0m\u001b[0mv\u001b[0m\u001b[0;34m,\u001b[0m \u001b[0mdtype\u001b[0m\u001b[0;34m=\u001b[0m\u001b[0mdtype\u001b[0m\u001b[0;34m,\u001b[0m \u001b[0mname\u001b[0m\u001b[0;34m=\u001b[0m\u001b[0mname\u001b[0m\u001b[0;34m)\u001b[0m\u001b[0;34m\u001b[0m\u001b[0m\n\u001b[0m\u001b[1;32m    230\u001b[0m \u001b[0;34m\u001b[0m\u001b[0m\n",
            "\u001b[0;32m/usr/local/lib/python3.6/dist-packages/tensorflow/python/framework/constant_op.py\u001b[0m in \u001b[0;36mconstant\u001b[0;34m(value, dtype, shape, name, verify_shape)\u001b[0m\n\u001b[1;32m    207\u001b[0m       tensor_util.make_tensor_proto(\n\u001b[0;32m--> 208\u001b[0;31m           value, dtype=dtype, shape=shape, verify_shape=verify_shape))\n\u001b[0m\u001b[1;32m    209\u001b[0m   \u001b[0mdtype_value\u001b[0m \u001b[0;34m=\u001b[0m \u001b[0mattr_value_pb2\u001b[0m\u001b[0;34m.\u001b[0m\u001b[0mAttrValue\u001b[0m\u001b[0;34m(\u001b[0m\u001b[0mtype\u001b[0m\u001b[0;34m=\u001b[0m\u001b[0mtensor_value\u001b[0m\u001b[0;34m.\u001b[0m\u001b[0mtensor\u001b[0m\u001b[0;34m.\u001b[0m\u001b[0mdtype\u001b[0m\u001b[0;34m)\u001b[0m\u001b[0;34m\u001b[0m\u001b[0m\n",
            "\u001b[0;32m/usr/local/lib/python3.6/dist-packages/tensorflow/python/framework/tensor_util.py\u001b[0m in \u001b[0;36mmake_tensor_proto\u001b[0;34m(values, dtype, shape, verify_shape)\u001b[0m\n\u001b[1;32m    450\u001b[0m                          (values, list(nparray.shape),\n\u001b[0;32m--> 451\u001b[0;31m                           _GetDenseDimensions(values)))\n\u001b[0m\u001b[1;32m    452\u001b[0m \u001b[0;34m\u001b[0m\u001b[0m\n",
            "\u001b[0;31mValueError\u001b[0m: Argument must be a dense tensor: range(2, 3) - got shape [1], but wanted [].",
            "\nDuring handling of the above exception, another exception occurred:\n",
            "\u001b[0;31mValueError\u001b[0m                                Traceback (most recent call last)",
            "\u001b[0;32m/usr/local/lib/python3.6/dist-packages/tensorflow/python/framework/op_def_library.py\u001b[0m in \u001b[0;36m_apply_op_helper\u001b[0;34m(self, op_type_name, name, **keywords)\u001b[0m\n\u001b[1;32m    523\u001b[0m               observed = ops.internal_convert_to_tensor(\n\u001b[0;32m--> 524\u001b[0;31m                   values, as_ref=input_arg.is_ref).dtype.name\n\u001b[0m\u001b[1;32m    525\u001b[0m             \u001b[0;32mexcept\u001b[0m \u001b[0mValueError\u001b[0m \u001b[0;32mas\u001b[0m \u001b[0merr\u001b[0m\u001b[0;34m:\u001b[0m\u001b[0;34m\u001b[0m\u001b[0m\n",
            "\u001b[0;32m/usr/local/lib/python3.6/dist-packages/tensorflow/python/framework/ops.py\u001b[0m in \u001b[0;36minternal_convert_to_tensor\u001b[0;34m(value, dtype, name, as_ref, preferred_dtype, ctx)\u001b[0m\n\u001b[1;32m   1145\u001b[0m     \u001b[0;32mif\u001b[0m \u001b[0mret\u001b[0m \u001b[0;32mis\u001b[0m \u001b[0;32mNone\u001b[0m\u001b[0;34m:\u001b[0m\u001b[0;34m\u001b[0m\u001b[0m\n\u001b[0;32m-> 1146\u001b[0;31m       \u001b[0mret\u001b[0m \u001b[0;34m=\u001b[0m \u001b[0mconversion_func\u001b[0m\u001b[0;34m(\u001b[0m\u001b[0mvalue\u001b[0m\u001b[0;34m,\u001b[0m \u001b[0mdtype\u001b[0m\u001b[0;34m=\u001b[0m\u001b[0mdtype\u001b[0m\u001b[0;34m,\u001b[0m \u001b[0mname\u001b[0m\u001b[0;34m=\u001b[0m\u001b[0mname\u001b[0m\u001b[0;34m,\u001b[0m \u001b[0mas_ref\u001b[0m\u001b[0;34m=\u001b[0m\u001b[0mas_ref\u001b[0m\u001b[0;34m)\u001b[0m\u001b[0;34m\u001b[0m\u001b[0m\n\u001b[0m\u001b[1;32m   1147\u001b[0m \u001b[0;34m\u001b[0m\u001b[0m\n",
            "\u001b[0;32m/usr/local/lib/python3.6/dist-packages/tensorflow/python/framework/constant_op.py\u001b[0m in \u001b[0;36m_constant_tensor_conversion_function\u001b[0;34m(v, dtype, name, as_ref)\u001b[0m\n\u001b[1;32m    228\u001b[0m   \u001b[0m_\u001b[0m \u001b[0;34m=\u001b[0m \u001b[0mas_ref\u001b[0m\u001b[0;34m\u001b[0m\u001b[0m\n\u001b[0;32m--> 229\u001b[0;31m   \u001b[0;32mreturn\u001b[0m \u001b[0mconstant\u001b[0m\u001b[0;34m(\u001b[0m\u001b[0mv\u001b[0m\u001b[0;34m,\u001b[0m \u001b[0mdtype\u001b[0m\u001b[0;34m=\u001b[0m\u001b[0mdtype\u001b[0m\u001b[0;34m,\u001b[0m \u001b[0mname\u001b[0m\u001b[0;34m=\u001b[0m\u001b[0mname\u001b[0m\u001b[0;34m)\u001b[0m\u001b[0;34m\u001b[0m\u001b[0m\n\u001b[0m\u001b[1;32m    230\u001b[0m \u001b[0;34m\u001b[0m\u001b[0m\n",
            "\u001b[0;32m/usr/local/lib/python3.6/dist-packages/tensorflow/python/framework/constant_op.py\u001b[0m in \u001b[0;36mconstant\u001b[0;34m(value, dtype, shape, name, verify_shape)\u001b[0m\n\u001b[1;32m    207\u001b[0m       tensor_util.make_tensor_proto(\n\u001b[0;32m--> 208\u001b[0;31m           value, dtype=dtype, shape=shape, verify_shape=verify_shape))\n\u001b[0m\u001b[1;32m    209\u001b[0m   \u001b[0mdtype_value\u001b[0m \u001b[0;34m=\u001b[0m \u001b[0mattr_value_pb2\u001b[0m\u001b[0;34m.\u001b[0m\u001b[0mAttrValue\u001b[0m\u001b[0;34m(\u001b[0m\u001b[0mtype\u001b[0m\u001b[0;34m=\u001b[0m\u001b[0mtensor_value\u001b[0m\u001b[0;34m.\u001b[0m\u001b[0mtensor\u001b[0m\u001b[0;34m.\u001b[0m\u001b[0mdtype\u001b[0m\u001b[0;34m)\u001b[0m\u001b[0;34m\u001b[0m\u001b[0m\n",
            "\u001b[0;32m/usr/local/lib/python3.6/dist-packages/tensorflow/python/framework/tensor_util.py\u001b[0m in \u001b[0;36mmake_tensor_proto\u001b[0;34m(values, dtype, shape, verify_shape)\u001b[0m\n\u001b[1;32m    450\u001b[0m                          (values, list(nparray.shape),\n\u001b[0;32m--> 451\u001b[0;31m                           _GetDenseDimensions(values)))\n\u001b[0m\u001b[1;32m    452\u001b[0m \u001b[0;34m\u001b[0m\u001b[0m\n",
            "\u001b[0;31mValueError\u001b[0m: Argument must be a dense tensor: range(2, 3) - got shape [1], but wanted [].",
            "\nDuring handling of the above exception, another exception occurred:\n",
            "\u001b[0;31mValueError\u001b[0m                                Traceback (most recent call last)",
            "\u001b[0;32m<ipython-input-20-dc16dcce7449>\u001b[0m in \u001b[0;36m<module>\u001b[0;34m()\u001b[0m\n\u001b[1;32m      5\u001b[0m \u001b[0;34m\u001b[0m\u001b[0m\n\u001b[1;32m      6\u001b[0m         \u001b[0mnum_training\u001b[0m \u001b[0;34m=\u001b[0m \u001b[0;36m400\u001b[0m\u001b[0;34m\u001b[0m\u001b[0m\n\u001b[0;32m----> 7\u001b[0;31m         \u001b[0ms\u001b[0m \u001b[0;34m=\u001b[0m \u001b[0mSOM\u001b[0m\u001b[0;34m(\u001b[0m \u001b[0;34m(\u001b[0m\u001b[0;36m27\u001b[0m\u001b[0;34m,\u001b[0m\u001b[0;34m)\u001b[0m\u001b[0;34m,\u001b[0m \u001b[0;36m30\u001b[0m\u001b[0;34m,\u001b[0m \u001b[0mnum_training\u001b[0m\u001b[0;34m,\u001b[0m \u001b[0msess\u001b[0m \u001b[0;34m)\u001b[0m\u001b[0;34m\u001b[0m\u001b[0m\n\u001b[0m\u001b[1;32m      8\u001b[0m \u001b[0;34m\u001b[0m\u001b[0m\n\u001b[1;32m      9\u001b[0m         \u001b[0msess\u001b[0m\u001b[0;34m.\u001b[0m\u001b[0mrun\u001b[0m\u001b[0;34m(\u001b[0m\u001b[0mtf\u001b[0m\u001b[0;34m.\u001b[0m\u001b[0minitialize_all_variables\u001b[0m\u001b[0;34m(\u001b[0m\u001b[0;34m)\u001b[0m\u001b[0;34m)\u001b[0m\u001b[0;34m\u001b[0m\u001b[0m\n",
            "\u001b[0;32m<ipython-input-19-2bace7a4181f>\u001b[0m in \u001b[0;36m__init__\u001b[0;34m(self, input_shape, map_size_n, num_expected_iterations, session)\u001b[0m\n\u001b[1;32m     44\u001b[0m \u001b[0;34m\u001b[0m\u001b[0m\n\u001b[1;32m     45\u001b[0m \u001b[0;34m\u001b[0m\u001b[0m\n\u001b[0;32m---> 46\u001b[0;31m                 \u001b[0mself\u001b[0m\u001b[0;34m.\u001b[0m\u001b[0minitialize_graph\u001b[0m\u001b[0;34m(\u001b[0m\u001b[0;34m)\u001b[0m\u001b[0;34m\u001b[0m\u001b[0m\n\u001b[0m\u001b[1;32m     47\u001b[0m \u001b[0;34m\u001b[0m\u001b[0m\n\u001b[1;32m     48\u001b[0m \u001b[0;34m\u001b[0m\u001b[0m\n",
            "\u001b[0;32m<ipython-input-19-2bace7a4181f>\u001b[0m in \u001b[0;36minitialize_graph\u001b[0;34m(self)\u001b[0m\n\u001b[1;32m     69\u001b[0m                 \u001b[0mself\u001b[0m\u001b[0;34m.\u001b[0m\u001b[0mdiff\u001b[0m \u001b[0;34m=\u001b[0m \u001b[0mself\u001b[0m\u001b[0;34m.\u001b[0m\u001b[0minput_placeholder_\u001b[0m \u001b[0;34m-\u001b[0m \u001b[0mself\u001b[0m\u001b[0;34m.\u001b[0m\u001b[0mweights\u001b[0m\u001b[0;34m\u001b[0m\u001b[0m\n\u001b[1;32m     70\u001b[0m                 \u001b[0mself\u001b[0m\u001b[0;34m.\u001b[0m\u001b[0mdiff_sq\u001b[0m \u001b[0;34m=\u001b[0m \u001b[0mtf\u001b[0m\u001b[0;34m.\u001b[0m\u001b[0msquare\u001b[0m\u001b[0;34m(\u001b[0m\u001b[0mself\u001b[0m\u001b[0;34m.\u001b[0m\u001b[0mdiff\u001b[0m\u001b[0;34m)\u001b[0m\u001b[0;34m\u001b[0m\u001b[0m\n\u001b[0;32m---> 71\u001b[0;31m                 \u001b[0mself\u001b[0m\u001b[0;34m.\u001b[0m\u001b[0mdiff_sum\u001b[0m \u001b[0;34m=\u001b[0m \u001b[0mtf\u001b[0m\u001b[0;34m.\u001b[0m\u001b[0mreduce_sum\u001b[0m\u001b[0;34m(\u001b[0m \u001b[0mself\u001b[0m\u001b[0;34m.\u001b[0m\u001b[0mdiff_sq\u001b[0m\u001b[0;34m,\u001b[0m \u001b[0mreduction_indices\u001b[0m\u001b[0;34m=\u001b[0m\u001b[0mrange\u001b[0m\u001b[0;34m(\u001b[0m\u001b[0;36m2\u001b[0m\u001b[0;34m,\u001b[0m \u001b[0;36m2\u001b[0m\u001b[0;34m+\u001b[0m\u001b[0mlen\u001b[0m\u001b[0;34m(\u001b[0m\u001b[0mself\u001b[0m\u001b[0;34m.\u001b[0m\u001b[0minput_shape\u001b[0m\u001b[0;34m)\u001b[0m\u001b[0;34m)\u001b[0m \u001b[0;34m)\u001b[0m\u001b[0;34m\u001b[0m\u001b[0m\n\u001b[0m\u001b[1;32m     72\u001b[0m \u001b[0;34m\u001b[0m\u001b[0m\n\u001b[1;32m     73\u001b[0m                 \u001b[0;31m# Get the index of the best matching unit\u001b[0m\u001b[0;34m\u001b[0m\u001b[0;34m\u001b[0m\u001b[0m\n",
            "\u001b[0;32m/usr/local/lib/python3.6/dist-packages/tensorflow/python/util/deprecation.py\u001b[0m in \u001b[0;36mnew_func\u001b[0;34m(*args, **kwargs)\u001b[0m\n\u001b[1;32m    486\u001b[0m                 \u001b[0;34m'in a future version'\u001b[0m \u001b[0;32mif\u001b[0m \u001b[0mdate\u001b[0m \u001b[0;32mis\u001b[0m \u001b[0;32mNone\u001b[0m \u001b[0;32melse\u001b[0m \u001b[0;34m(\u001b[0m\u001b[0;34m'after %s'\u001b[0m \u001b[0;34m%\u001b[0m \u001b[0mdate\u001b[0m\u001b[0;34m)\u001b[0m\u001b[0;34m,\u001b[0m\u001b[0;34m\u001b[0m\u001b[0m\n\u001b[1;32m    487\u001b[0m                 instructions)\n\u001b[0;32m--> 488\u001b[0;31m       \u001b[0;32mreturn\u001b[0m \u001b[0mfunc\u001b[0m\u001b[0;34m(\u001b[0m\u001b[0;34m*\u001b[0m\u001b[0margs\u001b[0m\u001b[0;34m,\u001b[0m \u001b[0;34m**\u001b[0m\u001b[0mkwargs\u001b[0m\u001b[0;34m)\u001b[0m\u001b[0;34m\u001b[0m\u001b[0m\n\u001b[0m\u001b[1;32m    489\u001b[0m     return tf_decorator.make_decorator(func, new_func, 'deprecated',\n\u001b[1;32m    490\u001b[0m                                        _add_deprecated_arg_notice_to_docstring(\n",
            "\u001b[0;32m/usr/local/lib/python3.6/dist-packages/tensorflow/python/ops/math_ops.py\u001b[0m in \u001b[0;36mreduce_sum\u001b[0;34m(input_tensor, axis, keepdims, name, reduction_indices, keep_dims)\u001b[0m\n\u001b[1;32m   1343\u001b[0m                                                   reduction_indices),\n\u001b[1;32m   1344\u001b[0m                                    \u001b[0mkeepdims\u001b[0m\u001b[0;34m,\u001b[0m\u001b[0;34m\u001b[0m\u001b[0m\n\u001b[0;32m-> 1345\u001b[0;31m                                    name=name))\n\u001b[0m\u001b[1;32m   1346\u001b[0m \u001b[0;34m\u001b[0m\u001b[0m\n\u001b[1;32m   1347\u001b[0m \u001b[0;34m\u001b[0m\u001b[0m\n",
            "\u001b[0;32m/usr/local/lib/python3.6/dist-packages/tensorflow/python/ops/gen_math_ops.py\u001b[0m in \u001b[0;36m_sum\u001b[0;34m(input, axis, keep_dims, name)\u001b[0m\n\u001b[1;32m   8387\u001b[0m     _, _, _op = _op_def_lib._apply_op_helper(\n\u001b[1;32m   8388\u001b[0m         \u001b[0;34m\"Sum\"\u001b[0m\u001b[0;34m,\u001b[0m \u001b[0minput\u001b[0m\u001b[0;34m=\u001b[0m\u001b[0minput\u001b[0m\u001b[0;34m,\u001b[0m \u001b[0mreduction_indices\u001b[0m\u001b[0;34m=\u001b[0m\u001b[0maxis\u001b[0m\u001b[0;34m,\u001b[0m \u001b[0mkeep_dims\u001b[0m\u001b[0;34m=\u001b[0m\u001b[0mkeep_dims\u001b[0m\u001b[0;34m,\u001b[0m\u001b[0;34m\u001b[0m\u001b[0m\n\u001b[0;32m-> 8389\u001b[0;31m         name=name)\n\u001b[0m\u001b[1;32m   8390\u001b[0m     \u001b[0m_result\u001b[0m \u001b[0;34m=\u001b[0m \u001b[0m_op\u001b[0m\u001b[0;34m.\u001b[0m\u001b[0moutputs\u001b[0m\u001b[0;34m[\u001b[0m\u001b[0;34m:\u001b[0m\u001b[0;34m]\u001b[0m\u001b[0;34m\u001b[0m\u001b[0m\n\u001b[1;32m   8391\u001b[0m     \u001b[0m_inputs_flat\u001b[0m \u001b[0;34m=\u001b[0m \u001b[0m_op\u001b[0m\u001b[0;34m.\u001b[0m\u001b[0minputs\u001b[0m\u001b[0;34m\u001b[0m\u001b[0m\n",
            "\u001b[0;32m/usr/local/lib/python3.6/dist-packages/tensorflow/python/framework/op_def_library.py\u001b[0m in \u001b[0;36m_apply_op_helper\u001b[0;34m(self, op_type_name, name, **keywords)\u001b[0m\n\u001b[1;32m    526\u001b[0m               raise ValueError(\n\u001b[1;32m    527\u001b[0m                   \u001b[0;34m\"Tried to convert '%s' to a tensor and failed. Error: %s\"\u001b[0m \u001b[0;34m%\u001b[0m\u001b[0;34m\u001b[0m\u001b[0m\n\u001b[0;32m--> 528\u001b[0;31m                   (input_name, err))\n\u001b[0m\u001b[1;32m    529\u001b[0m             prefix = (\"Input '%s' of '%s' Op has type %s that does not match\" %\n\u001b[1;32m    530\u001b[0m                       (input_name, op_type_name, observed))\n",
            "\u001b[0;31mValueError\u001b[0m: Tried to convert 'reduction_indices' to a tensor and failed. Error: Argument must be a dense tensor: range(2, 3) - got shape [1], but wanted []."
          ]
        }
      ]
    },
    {
      "metadata": {
        "id": "5sZ3ioKYcx1B",
        "colab_type": "text"
      },
      "cell_type": "markdown",
      "source": [
        "## Mapa autoorganizado con *minisom*"
      ]
    },
    {
      "metadata": {
        "id": "GimxkI60oVdd",
        "colab_type": "code",
        "colab": {
          "base_uri": "https://localhost:8080/",
          "height": 173
        },
        "outputId": "a1d346d8-9a64-47e6-968d-e834fa3fad0f"
      },
      "cell_type": "code",
      "source": [
        "!pip install minisom"
      ],
      "execution_count": 22,
      "outputs": [
        {
          "output_type": "stream",
          "text": [
            "Collecting minisom\n",
            "  Downloading https://files.pythonhosted.org/packages/d3/de/79460293f5b3b69371832f50419820162b30a12c929d02543df3b4ff3d41/MiniSom-2.1.4.tar.gz\n",
            "Building wheels for collected packages: minisom\n",
            "  Running setup.py bdist_wheel for minisom ... \u001b[?25l-\b \bdone\n",
            "\u001b[?25h  Stored in directory: /root/.cache/pip/wheels/4a/5c/75/d21b1b07292ccd8720a8076304f793031e016c16e9c8eacbf9\n",
            "Successfully built minisom\n",
            "Installing collected packages: minisom\n",
            "Successfully installed minisom-2.1.4\n"
          ],
          "name": "stdout"
        }
      ]
    },
    {
      "metadata": {
        "id": "8l3snotNBnF2",
        "colab_type": "code",
        "colab": {}
      },
      "cell_type": "code",
      "source": [
        "MagR=np.array(MagR)"
      ],
      "execution_count": 0,
      "outputs": []
    },
    {
      "metadata": {
        "id": "fJq2Ytozoggy",
        "colab_type": "code",
        "colab": {
          "base_uri": "https://localhost:8080/",
          "height": 68
        },
        "outputId": "173d7d9f-3b32-4a27-a5f7-759a85e786fb"
      },
      "cell_type": "code",
      "source": [
        "from minisom import MiniSom\n",
        "### Initialization and training ###\n",
        "som = MiniSom(50,50,510,sigma=0.2,learning_rate=0.5)\n",
        "som.random_weights_init(MagR)\n",
        "print(\"Training...\")\n",
        "som.train_random(MagR,100) # training with 100 iterations\n",
        "print(\"\\n...ready!\")"
      ],
      "execution_count": 36,
      "outputs": [
        {
          "output_type": "stream",
          "text": [
            "Training...\n",
            "\n",
            "...ready!\n"
          ],
          "name": "stdout"
        }
      ]
    },
    {
      "metadata": {
        "id": "Ey669k1QIG-x",
        "colab_type": "code",
        "colab": {
          "base_uri": "https://localhost:8080/",
          "height": 34
        },
        "outputId": "2a2c1d08-e3ff-4e8d-abcc-1f31b68fca61"
      },
      "cell_type": "code",
      "source": [
        "enumerate(MagR)"
      ],
      "execution_count": 38,
      "outputs": [
        {
          "output_type": "execute_result",
          "data": {
            "text/plain": [
              "<enumerate at 0x7fc47b287d80>"
            ]
          },
          "metadata": {
            "tags": []
          },
          "execution_count": 38
        }
      ]
    },
    {
      "metadata": {
        "id": "3EuOvaxhpRuL",
        "colab_type": "code",
        "colab": {
          "base_uri": "https://localhost:8080/",
          "height": 1279
        },
        "outputId": "ebdf08c1-7654-4648-fe66-d78a393a99c6"
      },
      "cell_type": "code",
      "source": [
        "from pylab import plot,axis,show,pcolor,colorbar,bone\n",
        "bone()\n",
        "pcolor(som.distance_map().T) # distance map as background\n",
        "colorbar()\n",
        "# loading the labels\n",
        "#target = genfromtxt('iris.csv',\n",
        "#                    delimiter=',',usecols=(4),dtype=str)\n",
        "#t = zeros(len(target),dtype=int)\n",
        "#t[target == 'setosa'] = 0\n",
        "#t[target == 'versicolor'] = 1\n",
        "#t[target == 'virginica'] = 2\n",
        "# use different colors and markers for each label\n",
        "#markers = ['o','s','D']\n",
        "#colors = ['r','g','b']\n",
        "for cnt,xx in enumerate(MagR):\n",
        " w = som.winner(xx) # getting the winner\n",
        " # palce a marker on the winning position for the sample xx\n",
        " plot(w[0]+.5,w[1]+.5)#,markers[t[cnt]],markerfacecolor='None',\n",
        "   #markeredgecolor=colors[t[cnt]],markersize=12,markeredgewidth=2)\n",
        "#axis([0,som.weights.shape[0],0,som.weights.shape[1]])\n",
        "show() # show the figure"
      ],
      "execution_count": 37,
      "outputs": [
        {
          "output_type": "error",
          "ename": "KeyboardInterrupt",
          "evalue": "ignored",
          "traceback": [
            "\u001b[0;31m---------------------------------------------------------------------------\u001b[0m",
            "\u001b[0;31mKeyboardInterrupt\u001b[0m                         Traceback (most recent call last)",
            "\u001b[0;32m<ipython-input-37-27a3adbd6fab>\u001b[0m in \u001b[0;36m<module>\u001b[0;34m()\u001b[0m\n\u001b[1;32m     16\u001b[0m  \u001b[0mw\u001b[0m \u001b[0;34m=\u001b[0m \u001b[0msom\u001b[0m\u001b[0;34m.\u001b[0m\u001b[0mwinner\u001b[0m\u001b[0;34m(\u001b[0m\u001b[0mxx\u001b[0m\u001b[0;34m)\u001b[0m \u001b[0;31m# getting the winner\u001b[0m\u001b[0;34m\u001b[0m\u001b[0m\n\u001b[1;32m     17\u001b[0m  \u001b[0;31m# palce a marker on the winning position for the sample xx\u001b[0m\u001b[0;34m\u001b[0m\u001b[0;34m\u001b[0m\u001b[0m\n\u001b[0;32m---> 18\u001b[0;31m  \u001b[0mplot\u001b[0m\u001b[0;34m(\u001b[0m\u001b[0mw\u001b[0m\u001b[0;34m[\u001b[0m\u001b[0;36m0\u001b[0m\u001b[0;34m]\u001b[0m\u001b[0;34m+\u001b[0m\u001b[0;36m.5\u001b[0m\u001b[0;34m,\u001b[0m\u001b[0mw\u001b[0m\u001b[0;34m[\u001b[0m\u001b[0;36m1\u001b[0m\u001b[0;34m]\u001b[0m\u001b[0;34m+\u001b[0m\u001b[0;36m.5\u001b[0m\u001b[0;34m)\u001b[0m\u001b[0;31m#,markers[t[cnt]],markerfacecolor='None',\u001b[0m\u001b[0;34m\u001b[0m\u001b[0m\n\u001b[0m\u001b[1;32m     19\u001b[0m    \u001b[0;31m#markeredgecolor=colors[t[cnt]],markersize=12,markeredgewidth=2)\u001b[0m\u001b[0;34m\u001b[0m\u001b[0;34m\u001b[0m\u001b[0m\n\u001b[1;32m     20\u001b[0m \u001b[0;31m#axis([0,som.weights.shape[0],0,som.weights.shape[1]])\u001b[0m\u001b[0;34m\u001b[0m\u001b[0;34m\u001b[0m\u001b[0m\n",
            "\u001b[0;32m/usr/local/lib/python3.6/dist-packages/matplotlib/pyplot.py\u001b[0m in \u001b[0;36mplot\u001b[0;34m(*args, **kwargs)\u001b[0m\n\u001b[1;32m   3259\u001b[0m                       mplDeprecation)\n\u001b[1;32m   3260\u001b[0m     \u001b[0;32mtry\u001b[0m\u001b[0;34m:\u001b[0m\u001b[0;34m\u001b[0m\u001b[0m\n\u001b[0;32m-> 3261\u001b[0;31m         \u001b[0mret\u001b[0m \u001b[0;34m=\u001b[0m \u001b[0max\u001b[0m\u001b[0;34m.\u001b[0m\u001b[0mplot\u001b[0m\u001b[0;34m(\u001b[0m\u001b[0;34m*\u001b[0m\u001b[0margs\u001b[0m\u001b[0;34m,\u001b[0m \u001b[0;34m**\u001b[0m\u001b[0mkwargs\u001b[0m\u001b[0;34m)\u001b[0m\u001b[0;34m\u001b[0m\u001b[0m\n\u001b[0m\u001b[1;32m   3262\u001b[0m     \u001b[0;32mfinally\u001b[0m\u001b[0;34m:\u001b[0m\u001b[0;34m\u001b[0m\u001b[0m\n\u001b[1;32m   3263\u001b[0m         \u001b[0max\u001b[0m\u001b[0;34m.\u001b[0m\u001b[0m_hold\u001b[0m \u001b[0;34m=\u001b[0m \u001b[0mwashold\u001b[0m\u001b[0;34m\u001b[0m\u001b[0m\n",
            "\u001b[0;32m/usr/local/lib/python3.6/dist-packages/matplotlib/__init__.py\u001b[0m in \u001b[0;36minner\u001b[0;34m(ax, *args, **kwargs)\u001b[0m\n\u001b[1;32m   1715\u001b[0m                     warnings.warn(msg % (label_namer, func.__name__),\n\u001b[1;32m   1716\u001b[0m                                   RuntimeWarning, stacklevel=2)\n\u001b[0;32m-> 1717\u001b[0;31m             \u001b[0;32mreturn\u001b[0m \u001b[0mfunc\u001b[0m\u001b[0;34m(\u001b[0m\u001b[0max\u001b[0m\u001b[0;34m,\u001b[0m \u001b[0;34m*\u001b[0m\u001b[0margs\u001b[0m\u001b[0;34m,\u001b[0m \u001b[0;34m**\u001b[0m\u001b[0mkwargs\u001b[0m\u001b[0;34m)\u001b[0m\u001b[0;34m\u001b[0m\u001b[0m\n\u001b[0m\u001b[1;32m   1718\u001b[0m         \u001b[0mpre_doc\u001b[0m \u001b[0;34m=\u001b[0m \u001b[0minner\u001b[0m\u001b[0;34m.\u001b[0m\u001b[0m__doc__\u001b[0m\u001b[0;34m\u001b[0m\u001b[0m\n\u001b[1;32m   1719\u001b[0m         \u001b[0;32mif\u001b[0m \u001b[0mpre_doc\u001b[0m \u001b[0;32mis\u001b[0m \u001b[0;32mNone\u001b[0m\u001b[0;34m:\u001b[0m\u001b[0;34m\u001b[0m\u001b[0m\n",
            "\u001b[0;32m/usr/local/lib/python3.6/dist-packages/matplotlib/axes/_axes.py\u001b[0m in \u001b[0;36mplot\u001b[0;34m(self, *args, **kwargs)\u001b[0m\n\u001b[1;32m   1374\u001b[0m             \u001b[0mlines\u001b[0m\u001b[0;34m.\u001b[0m\u001b[0mappend\u001b[0m\u001b[0;34m(\u001b[0m\u001b[0mline\u001b[0m\u001b[0;34m)\u001b[0m\u001b[0;34m\u001b[0m\u001b[0m\n\u001b[1;32m   1375\u001b[0m \u001b[0;34m\u001b[0m\u001b[0m\n\u001b[0;32m-> 1376\u001b[0;31m         \u001b[0mself\u001b[0m\u001b[0;34m.\u001b[0m\u001b[0mautoscale_view\u001b[0m\u001b[0;34m(\u001b[0m\u001b[0mscalex\u001b[0m\u001b[0;34m=\u001b[0m\u001b[0mscalex\u001b[0m\u001b[0;34m,\u001b[0m \u001b[0mscaley\u001b[0m\u001b[0;34m=\u001b[0m\u001b[0mscaley\u001b[0m\u001b[0;34m)\u001b[0m\u001b[0;34m\u001b[0m\u001b[0m\n\u001b[0m\u001b[1;32m   1377\u001b[0m         \u001b[0;32mreturn\u001b[0m \u001b[0mlines\u001b[0m\u001b[0;34m\u001b[0m\u001b[0m\n\u001b[1;32m   1378\u001b[0m \u001b[0;34m\u001b[0m\u001b[0m\n",
            "\u001b[0;32m/usr/local/lib/python3.6/dist-packages/matplotlib/axes/_base.py\u001b[0m in \u001b[0;36mautoscale_view\u001b[0;34m(self, tight, scalex, scaley)\u001b[0m\n\u001b[1;32m   2276\u001b[0m \u001b[0;34m\u001b[0m\u001b[0m\n\u001b[1;32m   2277\u001b[0m         \u001b[0;32mif\u001b[0m \u001b[0mself\u001b[0m\u001b[0;34m.\u001b[0m\u001b[0muse_sticky_edges\u001b[0m \u001b[0;32mand\u001b[0m \u001b[0;34m(\u001b[0m\u001b[0mself\u001b[0m\u001b[0;34m.\u001b[0m\u001b[0m_xmargin\u001b[0m \u001b[0;32mor\u001b[0m \u001b[0mself\u001b[0m\u001b[0;34m.\u001b[0m\u001b[0m_ymargin\u001b[0m\u001b[0;34m)\u001b[0m\u001b[0;34m:\u001b[0m\u001b[0;34m\u001b[0m\u001b[0m\n\u001b[0;32m-> 2278\u001b[0;31m             \u001b[0mstickies\u001b[0m \u001b[0;34m=\u001b[0m \u001b[0;34m[\u001b[0m\u001b[0martist\u001b[0m\u001b[0;34m.\u001b[0m\u001b[0msticky_edges\u001b[0m \u001b[0;32mfor\u001b[0m \u001b[0martist\u001b[0m \u001b[0;32min\u001b[0m \u001b[0mself\u001b[0m\u001b[0;34m.\u001b[0m\u001b[0mget_children\u001b[0m\u001b[0;34m(\u001b[0m\u001b[0;34m)\u001b[0m\u001b[0;34m]\u001b[0m\u001b[0;34m\u001b[0m\u001b[0m\n\u001b[0m\u001b[1;32m   2279\u001b[0m             \u001b[0mx_stickies\u001b[0m \u001b[0;34m=\u001b[0m \u001b[0msum\u001b[0m\u001b[0;34m(\u001b[0m\u001b[0;34m[\u001b[0m\u001b[0msticky\u001b[0m\u001b[0;34m.\u001b[0m\u001b[0mx\u001b[0m \u001b[0;32mfor\u001b[0m \u001b[0msticky\u001b[0m \u001b[0;32min\u001b[0m \u001b[0mstickies\u001b[0m\u001b[0;34m]\u001b[0m\u001b[0;34m,\u001b[0m \u001b[0;34m[\u001b[0m\u001b[0;34m]\u001b[0m\u001b[0;34m)\u001b[0m\u001b[0;34m\u001b[0m\u001b[0m\n\u001b[1;32m   2280\u001b[0m             \u001b[0my_stickies\u001b[0m \u001b[0;34m=\u001b[0m \u001b[0msum\u001b[0m\u001b[0;34m(\u001b[0m\u001b[0;34m[\u001b[0m\u001b[0msticky\u001b[0m\u001b[0;34m.\u001b[0m\u001b[0my\u001b[0m \u001b[0;32mfor\u001b[0m \u001b[0msticky\u001b[0m \u001b[0;32min\u001b[0m \u001b[0mstickies\u001b[0m\u001b[0;34m]\u001b[0m\u001b[0;34m,\u001b[0m \u001b[0;34m[\u001b[0m\u001b[0;34m]\u001b[0m\u001b[0;34m)\u001b[0m\u001b[0;34m\u001b[0m\u001b[0m\n",
            "\u001b[0;32m/usr/local/lib/python3.6/dist-packages/matplotlib/axes/_base.py\u001b[0m in \u001b[0;36m<listcomp>\u001b[0;34m(.0)\u001b[0m\n\u001b[1;32m   2276\u001b[0m \u001b[0;34m\u001b[0m\u001b[0m\n\u001b[1;32m   2277\u001b[0m         \u001b[0;32mif\u001b[0m \u001b[0mself\u001b[0m\u001b[0;34m.\u001b[0m\u001b[0muse_sticky_edges\u001b[0m \u001b[0;32mand\u001b[0m \u001b[0;34m(\u001b[0m\u001b[0mself\u001b[0m\u001b[0;34m.\u001b[0m\u001b[0m_xmargin\u001b[0m \u001b[0;32mor\u001b[0m \u001b[0mself\u001b[0m\u001b[0;34m.\u001b[0m\u001b[0m_ymargin\u001b[0m\u001b[0;34m)\u001b[0m\u001b[0;34m:\u001b[0m\u001b[0;34m\u001b[0m\u001b[0m\n\u001b[0;32m-> 2278\u001b[0;31m             \u001b[0mstickies\u001b[0m \u001b[0;34m=\u001b[0m \u001b[0;34m[\u001b[0m\u001b[0martist\u001b[0m\u001b[0;34m.\u001b[0m\u001b[0msticky_edges\u001b[0m \u001b[0;32mfor\u001b[0m \u001b[0martist\u001b[0m \u001b[0;32min\u001b[0m \u001b[0mself\u001b[0m\u001b[0;34m.\u001b[0m\u001b[0mget_children\u001b[0m\u001b[0;34m(\u001b[0m\u001b[0;34m)\u001b[0m\u001b[0;34m]\u001b[0m\u001b[0;34m\u001b[0m\u001b[0m\n\u001b[0m\u001b[1;32m   2279\u001b[0m             \u001b[0mx_stickies\u001b[0m \u001b[0;34m=\u001b[0m \u001b[0msum\u001b[0m\u001b[0;34m(\u001b[0m\u001b[0;34m[\u001b[0m\u001b[0msticky\u001b[0m\u001b[0;34m.\u001b[0m\u001b[0mx\u001b[0m \u001b[0;32mfor\u001b[0m \u001b[0msticky\u001b[0m \u001b[0;32min\u001b[0m \u001b[0mstickies\u001b[0m\u001b[0;34m]\u001b[0m\u001b[0;34m,\u001b[0m \u001b[0;34m[\u001b[0m\u001b[0;34m]\u001b[0m\u001b[0;34m)\u001b[0m\u001b[0;34m\u001b[0m\u001b[0m\n\u001b[1;32m   2280\u001b[0m             \u001b[0my_stickies\u001b[0m \u001b[0;34m=\u001b[0m \u001b[0msum\u001b[0m\u001b[0;34m(\u001b[0m\u001b[0;34m[\u001b[0m\u001b[0msticky\u001b[0m\u001b[0;34m.\u001b[0m\u001b[0my\u001b[0m \u001b[0;32mfor\u001b[0m \u001b[0msticky\u001b[0m \u001b[0;32min\u001b[0m \u001b[0mstickies\u001b[0m\u001b[0;34m]\u001b[0m\u001b[0;34m,\u001b[0m \u001b[0;34m[\u001b[0m\u001b[0;34m]\u001b[0m\u001b[0;34m)\u001b[0m\u001b[0;34m\u001b[0m\u001b[0m\n",
            "\u001b[0;32m/usr/local/lib/python3.6/dist-packages/matplotlib/artist.py\u001b[0m in \u001b[0;36msticky_edges\u001b[0;34m(self)\u001b[0m\n\u001b[1;32m    975\u001b[0m \u001b[0;34m\u001b[0m\u001b[0m\n\u001b[1;32m    976\u001b[0m         \"\"\"\n\u001b[0;32m--> 977\u001b[0;31m         \u001b[0;32mreturn\u001b[0m \u001b[0mself\u001b[0m\u001b[0;34m.\u001b[0m\u001b[0m_sticky_edges\u001b[0m\u001b[0;34m\u001b[0m\u001b[0m\n\u001b[0m\u001b[1;32m    978\u001b[0m \u001b[0;34m\u001b[0m\u001b[0m\n\u001b[1;32m    979\u001b[0m     \u001b[0;32mdef\u001b[0m \u001b[0mupdate_from\u001b[0m\u001b[0;34m(\u001b[0m\u001b[0mself\u001b[0m\u001b[0;34m,\u001b[0m \u001b[0mother\u001b[0m\u001b[0;34m)\u001b[0m\u001b[0;34m:\u001b[0m\u001b[0;34m\u001b[0m\u001b[0m\n",
            "\u001b[0;31mKeyboardInterrupt\u001b[0m: "
          ]
        },
        {
          "output_type": "display_data",
          "data": {
            "image/png": "[encoded data removed]",
            "text/plain": [
              "<matplotlib.figure.Figure at 0x7fc46ed66198>"
            ]
          },
          "metadata": {
            "tags": []
          }
        }
      ]
    },
    {
      "metadata": {
        "id": "IE1unlQ3iNjU",
        "colab_type": "text"
      },
      "cell_type": "markdown",
      "source": [
        "# Algoritmo *k-means* de las características y visualización con PCA"
      ]
    },
    {
      "metadata": {
        "id": "XK4_65GT3zqn",
        "colab_type": "code",
        "colab": {}
      },
      "cell_type": "code",
      "source": [
        "from sklearn.cluster import KMeans"
      ],
      "execution_count": 0,
      "outputs": []
    },
    {
      "metadata": {
        "id": "hTVHirql7Z-V",
        "colab_type": "code",
        "colab": {}
      },
      "cell_type": "code",
      "source": [
        "LC=[]\n",
        "for i in range(len(Nombres)):\n",
        "    LC.append([Periodo[i]]+MagR[i])"
      ],
      "execution_count": 0,
      "outputs": []
    },
    {
      "metadata": {
        "id": "ldsxea0i1eOT",
        "colab_type": "code",
        "colab": {}
      },
      "cell_type": "code",
      "source": [
        "kmeans = KMeans(n_clusters=3,init='k-means++').fit(LC)\n",
        "labels = kmeans.predict(LC)"
      ],
      "execution_count": 0,
      "outputs": []
    },
    {
      "metadata": {
        "id": "yILg1Bw4LBU1",
        "colab_type": "code",
        "colab": {
          "base_uri": "https://localhost:8080/",
          "height": 34
        },
        "outputId": "6ea2f250-594f-49f7-9c2f-ca5eb761d175"
      },
      "cell_type": "code",
      "source": [
        "import collections\n",
        "collections.Counter(labels)"
      ],
      "execution_count": 44,
      "outputs": [
        {
          "output_type": "execute_result",
          "data": {
            "text/plain": [
              "Counter({0: 28165, 1: 74, 2: 365})"
            ]
          },
          "metadata": {
            "tags": []
          },
          "execution_count": 44
        }
      ]
    },
    {
      "metadata": {
        "id": "7nsLFSobvxEw",
        "colab_type": "code",
        "colab": {}
      },
      "cell_type": "code",
      "source": [
        "from sklearn.decomposition import PCA\n",
        "pca = PCA(n_components=2).fit(LC) \n",
        "pca_2d = pca.transform(LC)"
      ],
      "execution_count": 0,
      "outputs": []
    },
    {
      "metadata": {
        "id": "4SrF-swvQG8A",
        "colab_type": "code",
        "colab": {
          "base_uri": "https://localhost:8080/",
          "height": 362
        },
        "outputId": "0f0d603b-6d41-4cdd-a426-f94a00422abc"
      },
      "cell_type": "code",
      "source": [
        "plt.scatter(pca_2d[:,0],pca_2d[:,1])\n",
        "plt.title('Proyección en 2dimensiones de las características de las curvas')\n",
        "plt.savefig('Proyecciones.eps',format='eps')"
      ],
      "execution_count": 51,
      "outputs": [
        {
          "output_type": "display_data",
          "data": {
            "image/png": "[encoded data removed]",
            "text/plain": [
              "<matplotlib.figure.Figure at 0x7f83a694cc50>"
            ]
          },
          "metadata": {
            "tags": []
          }
        }
      ]
    },
    {
      "metadata": {
        "id": "nSx8SRQeSZ71",
        "colab_type": "code",
        "colab": {}
      },
      "cell_type": "code",
      "source": [
        "ind_0=[i for i in range(len(pca_2d)) if labels[i]==0]\n",
        "ind_1=[i for i in range(len(pca_2d)) if labels[i]==1]\n",
        "ind_2=[i for i in range(len(pca_2d)) if labels[i]==2]\n",
        "\n",
        "c1=pca_2d[ind_0]\n",
        "c2=pca_2d[ind_1]\n",
        "c3=pca_2d[ind_2]\n"
      ],
      "execution_count": 0,
      "outputs": []
    },
    {
      "metadata": {
        "id": "yodsGEsWT7K_",
        "colab_type": "code",
        "colab": {
          "base_uri": "https://localhost:8080/",
          "height": 362
        },
        "outputId": "e66ed6db-6323-4e9e-9ada-9870b3f585d8"
      },
      "cell_type": "code",
      "source": [
        "plt.scatter(c1[:,0],c1[:,1],c='r',marker='.')\n",
        "plt.scatter(c2[:,0],c2[:,1],c='g',marker='.')\n",
        "plt.scatter(c3[:,0],c3[:,1],c='b',marker='.')\n",
        "plt.title('Proyección en 2dimensiones de los clusters encontrados por k-means')\n",
        "plt.savefig('Proyecciones_clusters.eps',format='eps')"
      ],
      "execution_count": 53,
      "outputs": [
        {
          "output_type": "display_data",
          "data": {
            "image/png": "[encoded data removed]",
            "text/plain": [
              "<matplotlib.figure.Figure at 0x7f83a6a5e4e0>"
            ]
          },
          "metadata": {
            "tags": []
          }
        }
      ]
    },
    {
      "metadata": {
        "id": "Q7AeqV6gxNhk",
        "colab_type": "text"
      },
      "cell_type": "markdown",
      "source": [
        "https://www.dummies.com/programming/big-data/data-science/how-to-visualize-the-clusters-in-a-k-means-unsupervised-learning-model/"
      ]
    }
  ]
}